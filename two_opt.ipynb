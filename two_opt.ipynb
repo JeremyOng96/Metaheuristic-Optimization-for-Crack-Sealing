{
 "cells": [
  {
   "cell_type": "code",
   "execution_count": 8,
   "metadata": {},
   "outputs": [],
   "source": [
    "from typing import List, Dict, Set, Tuple, Optional\n",
    "import numpy as np\n",
    "import cv2\n",
    "import random\n",
    "import copy\n",
    "from scipy.spatial import distance\n",
    "import matplotlib.pyplot as plt\n",
    "from tqdm import tqdm\n",
    "from utils import Path\n",
    "\n",
    "import elkai\n",
    "from tsp_solver.greedy import solve_tsp\n",
    "from python_tsp.exact import solve_tsp_dynamic_programming\n",
    "import time \n"
   ]
  },
  {
   "cell_type": "code",
   "execution_count": 31,
   "metadata": {},
   "outputs": [],
   "source": [
    "class TwoOpt(Path):\n",
    "    def __init__(self,\n",
    "        image: np.ndarray,\n",
    "        patch_size: Tuple[int,int],\n",
    "        start: int,\n",
    "        iteration: int = 1,\n",
    "        threshold: float = 0.01,\n",
    "        verbose: Optional[bool] = True):\n",
    "            \n",
    "        super().__init__(image,patch_size,verbose)\n",
    "        self.start = start\n",
    "        self.iteration = iteration\n",
    "        self.threshold = threshold\n",
    "        self.history = [[]for _ in range(self.iteration)]\n",
    "\n",
    "    def get_statistics(self):\n",
    "        \"\"\"\n",
    "        Plot the statistics of two-opt\n",
    "        \"\"\"\n",
    "        self.history = np.asarray(self.history)\n",
    "        plt.figure(figsize=(15,10))\n",
    "        ax = plt.subplot(111)\n",
    "        for i in range(self.iteration):\n",
    "            ax.plot(np.arange(self.history.shape[1]),self.history[i,:],label=f\"route {i}\")\n",
    "\n",
    "        box = ax.get_position()\n",
    "        ax.set_position([box.x0, box.y0+box.height*0.1,box.width,box.height*0.9]) # shrink axis height by 10%\n",
    "        ax.legend(loc=\"upper center\", bbox_to_anchor=(0.5,-0.05),fancybox=True,shadow=True,ncol=self.iteration//2)\n",
    "        ax.set_title(\"Two Opt\")\n",
    "        ax.set_ylabel(\"Distance\")\n",
    "        ax.set_xlabel(\"Iteration\")\n",
    "        plt.show()\n",
    "\n",
    "    def initialize(self):\n",
    "        route = [self.start]\n",
    "        route += random.sample(range(1,self.num_vertex), self.num_vertex-1)\n",
    "        \n",
    "        return route\n",
    "\n",
    "    def swap(self,path, i, j):\n",
    "        path_updated = path[0:i+1] + path[j:-len(path)+i:-1] + path[j+1:]\n",
    "        return path_updated\n",
    "    \n",
    "    def two_opt(self,\n",
    "                route:List[int],\n",
    "                num_iteration: Optional[int] = None,\n",
    "                ):\n",
    "        \"\"\"\n",
    "        iteration: Number of iterations to perform 2-opt\n",
    "        fast: Selects the first improving move or the best \n",
    "        \"\"\"\n",
    "        iteration = 0\n",
    "        for i in range(1, self.num_vertex-1): \n",
    "            for j in random.sample(list(range(i+1,self.num_vertex-1)), self.num_vertex-i-2):\n",
    "                x1 = route[i]\n",
    "                x2 = route[i+1]\n",
    "                y1 = route[j]\n",
    "                y2 = route[j+1]\n",
    "                before = self.weight_matrix[x1][x2] + self.weight_matrix[y1][y2]\n",
    "                after = self.weight_matrix[x1][y1] + self.weight_matrix[x2][y2]\n",
    "                if after < before:\n",
    "                    route = self.swap(route, i, j)\n",
    "                # self.history[curr_iteration].append(len(self.build_path(route)))\n",
    "\n",
    "            if not (num_iteration == None):\n",
    "                if iteration == num_iteration:\n",
    "                    return route\n",
    "                else:\n",
    "                    iteration += 1\n",
    "            \n",
    "        return route\n",
    "\n",
    "    def _optimize(self):\n",
    "        self.seal_path = []\n",
    "        self.traverse_path = []\n",
    "        self.all_path_converted = []   \n",
    "        for i, g in enumerate(self.all_graphs):\n",
    "            route = self.initialize()\n",
    "            path = self.two_opt(route)\n",
    "            path = self.build_path(path,self.adj_list,self.local_to_coords)\n",
    "            self.seal_path.append(path)\n",
    "\n",
    "        if len(self.seal_path) == 1:\n",
    "            p = [self.mapping_r[local_node] for local_node in self.seal_path[0]]\n",
    "            self.all_path_converted.append(p)\n",
    "            return p\n",
    "        \n",
    "        else:\n",
    "            path = []\n",
    "            path_weights, connect_paths = self.post_path(self.seal_path)\n",
    "            path_weights[:,0] = 0\n",
    "            crack_order, _ = solve_tsp_dynamic_programming(path_weights)\n",
    "            self.all_path_converted = []        \n",
    "\n",
    "            for i in range(len(self.all_graphs)):\n",
    "                path_converted = []\n",
    "                path_converted = list(map(lambda x : self.mapping_r[x], self.seal_path[i]))\n",
    "                self.all_path_converted.append(path_converted)\n",
    "\n",
    "            path = []\n",
    "            for i in range(len(self.all_path_converted)-1):\n",
    "                path.extend(self.all_path_converted[i])\n",
    "                traverse_path = connect_paths[(i,i+1)]\n",
    "                path.extend(traverse_path)\n",
    "                self.traverse_path.append(traverse_path)\n",
    "\n",
    "            path.extend(self.all_path_converted[crack_order[-1]])\n",
    "\n",
    "            return path\n"
   ]
  },
  {
   "cell_type": "code",
   "execution_count": 32,
   "metadata": {},
   "outputs": [
    {
     "name": "stdout",
     "output_type": "stream",
     "text": [
      "Preprocessing of graph completed\n",
      "[1174, 1175, 1235, 1236, 1237, 1238, 1239, 1240, 1241, 1242, 1302, 1303, 1304, 1305, 1306, 1307, 1308, 1309, 1310, 1311, 1312, 1313, 1314, 1315, 1316, 1317, 1377, 1378, 1438, 1439, 1379, 1378, 1377, 1317, 1316, 1376, 1375, 1374, 1314, 1315, 1314, 1313, 1253, 1252, 1251, 1250, 1251, 1252, 1312, 1313, 1312, 1311, 1310, 1309, 1308, 1307, 1367, 1366, 1306, 1305, 1304, 1303, 1302, 1301, 1241, 1242, 1241, 1240, 1300, 1299, 1239, 1238, 1237, 1236, 1235, 1175, 1235, 1295, 1296, 1297, 1298, 1297, 1296, 1295, 1294, 1234, 1233, 1232, 1231, 1230, 1229, 1230, 1231, 1232, 1292, 1293, 1292, 1291, 1290, 1289, 1229, 1228, 1288, 1287, 1288, 1348, 1347, 1346, 1345, 1346, 1406, 1405, 1404, 1464, 1463, 1462, 1402, 1403, 1402, 1401, 1461, 1401, 1400, 1460, 1400, 1399, 1398, 1397, 1396, 1397, 1457, 1458, 1457, 1456, 1455, 1395, 1394, 1454, 1514, 1513, 1512, 1452, 1453, 1452, 1451, 1391, 1390, 1450, 1449, 1389, 1388, 1387, 1386, 1385, 1384, 1383, 1384, 1444, 1443, 1442, 1441, 1440, 1500, 1501, 1441, 1442, 1443, 1444, 1445, 1385, 1386]\n",
      "114\n",
      "272 152 48 184\n",
      "(171, 57, 0)\n"
     ]
    },
    {
     "data": {
      "image/png": "[encoded data removed]",
      "text/plain": [
       "<Figure size 640x480 with 1 Axes>"
      ]
     },
     "metadata": {},
     "output_type": "display_data"
    },
    {
     "data": {
      "image/png": "[encoded data removed]",
      "text/plain": [
       "<Figure size 640x480 with 1 Axes>"
      ]
     },
     "metadata": {},
     "output_type": "display_data"
    }
   ],
   "source": [
    "if __name__ == \"__main__\":\n",
    "\n",
    "    img = cv2.imread(\"./binary_image/4.png\",cv2.IMREAD_UNCHANGED) \n",
    "    ps = (8,8)\n",
    "    x = TwoOpt(img,ps,0,1,0.01,True)\n",
    "    path = x._optimize()  \n",
    "    print(path)\n",
    "    print(x.num_vertex)\n",
    "    print(x.check_all_path())\n",
    "    # x.get_statistics()"
   ]
  },
  {
   "cell_type": "code",
   "execution_count": null,
   "metadata": {},
   "outputs": [],
   "source": []
  }
 ],
 "metadata": {
  "kernelspec": {
   "display_name": "Python 3",
   "language": "python",
   "name": "python3"
  },
  "language_info": {
   "codemirror_mode": {
    "name": "ipython",
    "version": 3
   },
   "file_extension": ".py",
   "mimetype": "text/x-python",
   "name": "python",
   "nbconvert_exporter": "python",
   "pygments_lexer": "ipython3",
   "version": "3.11.4"
  },
  "orig_nbformat": 4,
  "vscode": {
   "interpreter": {
    "hash": "aee8b7b246df8f9039afb4144a1f6fd8d2ca17a180786b69acc140d282b71a49"
   }
  }
 },
 "nbformat": 4,
 "nbformat_minor": 2
}
